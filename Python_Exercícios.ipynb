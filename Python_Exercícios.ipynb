{
  "cells": [
    {
      "cell_type": "markdown",
      "metadata": {
        "id": "view-in-github",
        "colab_type": "text"
      },
      "source": [
        "<a href=\"https://colab.research.google.com/github/fran-ss/Blog_Adonis/blob/master/Python_Exerc%C3%ADcios.ipynb\" target=\"_parent\"><img src=\"https://colab.research.google.com/assets/colab-badge.svg\" alt=\"Open In Colab\"/></a>"
      ]
    },
    {
      "cell_type": "markdown",
      "metadata": {
        "id": "21jWYJc_rxEY"
      },
      "source": [
        "# Python - Exercícios"
      ]
    },
    {
      "cell_type": "markdown",
      "metadata": {
        "id": "nczu3pXvrxEf"
      },
      "source": [
        "## Exercícios\n",
        "\n",
        "Responda as perguntas ou complete as tarefas descritas em negrito abaixo, use o método específico, se aplicável."
      ]
    },
    {
      "cell_type": "markdown",
      "metadata": {
        "id": "SJ3lLh3CrxEg"
      },
      "source": [
        "** Quanto é 7 elevado na potência 4?**"
      ]
    },
    {
      "cell_type": "code",
      "execution_count": null,
      "metadata": {
        "id": "CyCWzz85rxEh",
        "outputId": "a37c0f2e-c1d2-435d-a45a-ef88421f8f94",
        "colab": {
          "base_uri": "https://localhost:8080/"
        }
      },
      "outputs": [
        {
          "output_type": "stream",
          "name": "stdout",
          "text": [
            "2401\n"
          ]
        }
      ],
      "source": [
        "a =7**4\n",
        "print(a)"
      ]
    },
    {
      "cell_type": "markdown",
      "metadata": {
        "id": "h9ctuWYzrxEi"
      },
      "source": [
        "** Quebre a seguinte string em uma lista:**\n",
        "\n",
        "    s = \"Olá, Pai!\""
      ]
    },
    {
      "cell_type": "code",
      "execution_count": null,
      "metadata": {
        "collapsed": true,
        "id": "hpkpe-lKrxEo",
        "outputId": "b03828a7-29bd-4e5b-fb63-0e94e2e74eb5",
        "colab": {
          "base_uri": "https://localhost:8080/"
        }
      },
      "outputs": [
        {
          "output_type": "execute_result",
          "data": {
            "text/plain": [
              "['Olá', ' Pai!']"
            ]
          },
          "metadata": {},
          "execution_count": 42
        }
      ],
      "source": [
        "s = \"Olá, Pai!\"\n",
        "s.split(',')"
      ]
    },
    {
      "cell_type": "code",
      "execution_count": null,
      "metadata": {
        "outputId": "0f65b4ac-2fac-4261-db0f-9a3b6b2876a3",
        "id": "5DgFUvVKsmd9",
        "colab": {
          "base_uri": "https://localhost:8080/"
        }
      },
      "outputs": [
        {
          "output_type": "execute_result",
          "data": {
            "text/plain": [
              "['Olá', ' Pai!']"
            ]
          },
          "metadata": {},
          "execution_count": 41
        }
      ],
      "source": [
        "s = \"Olá, Pai!\"\n",
        "s.split(',')"
      ]
    },
    {
      "cell_type": "markdown",
      "metadata": {
        "id": "VxJxdY6orxEk"
      },
      "source": [
        "** Dada as variáveis:**\n",
        "\n",
        "    Planeta = \"Terra\"\n",
        "    Diametro = 12742\n",
        "\n",
        "** Use .format() para printar a seguinte frase: **\n",
        "\n",
        "    O diâmetro da terra é de 12742 kilômetros."
      ]
    },
    {
      "cell_type": "code",
      "execution_count": null,
      "metadata": {
        "collapsed": true,
        "id": "89g4qiYerxEl",
        "outputId": "ae68e3c3-0e0e-45aa-e91b-2bdfa5a610b1",
        "colab": {
          "base_uri": "https://localhost:8080/"
        }
      },
      "outputs": [
        {
          "output_type": "stream",
          "name": "stdout",
          "text": [
            "O diâmetro da Terra é de 12742 kilômetros.\n"
          ]
        }
      ],
      "source": [
        "planeta = \"Terra\"\n",
        "diametro = 12742\n",
        "print(f'O diâmetro da {planeta} é de {diametro} kilômetros.')"
      ]
    },
    {
      "cell_type": "code",
      "execution_count": null,
      "metadata": {
        "id": "IzekvVC0rxEn",
        "outputId": "e73a2677-6a5c-4b1f-f911-89d8e95ded45"
      },
      "outputs": [
        {
          "name": "stdout",
          "output_type": "stream",
          "text": [
            "O diâmetro da terra é de 12742 kilômetros.\n"
          ]
        }
      ],
      "source": []
    },
    {
      "cell_type": "markdown",
      "metadata": {
        "id": "gLbqV27PrxEo"
      },
      "source": [
        "** Dada a lista abaixo, use indexação para obter apenas a string \"ola\". **"
      ]
    },
    {
      "cell_type": "markdown",
      "source": [],
      "metadata": {
        "id": "UvqEgLWktqgl"
      }
    },
    {
      "cell_type": "code",
      "execution_count": null,
      "metadata": {
        "collapsed": true,
        "id": "t6_anO4SrxEo",
        "outputId": "3f3936ac-0f78-491d-d791-87647da8be87",
        "colab": {
          "base_uri": "https://localhost:8080/"
        }
      },
      "outputs": [
        {
          "output_type": "stream",
          "name": "stdout",
          "text": [
            "['olá']\n"
          ]
        }
      ],
      "source": [
        "lst = [1,2,[3,4],[5,[100,200,['olá']],23,11],1,7]\n",
        "print(lst[3][1][2])"
      ]
    },
    {
      "cell_type": "code",
      "execution_count": null,
      "metadata": {
        "id": "e9s4GsIvrxEp",
        "outputId": "fd974c72-4c06-46fe-8f2f-c886fa1f641f"
      },
      "outputs": [
        {
          "name": "stdout",
          "output_type": "stream",
          "text": [
            "olá\n"
          ]
        }
      ],
      "source": []
    },
    {
      "cell_type": "code",
      "execution_count": null,
      "metadata": {
        "collapsed": true,
        "id": "6JTwiZ6YrxEp"
      },
      "outputs": [],
      "source": []
    },
    {
      "cell_type": "markdown",
      "metadata": {
        "id": "uiftFKEarxEq"
      },
      "source": [
        "** Dado o seguinte dicionário aninhado, extraia a palavra \"hello\" **"
      ]
    },
    {
      "cell_type": "code",
      "execution_count": null,
      "metadata": {
        "collapsed": true,
        "id": "lAEs-SmRrxEr",
        "outputId": "77845223-3df9-4c36-cd04-11c5316f1848",
        "colab": {
          "base_uri": "https://localhost:8080/"
        }
      },
      "outputs": [
        {
          "output_type": "stream",
          "name": "stdout",
          "text": [
            "olá\n"
          ]
        }
      ],
      "source": [
        "d = {'k1':[1,2,3,{'café':['banana','mulher','colher',{'alvo':[1,2,3,'olá']}]}]}\n",
        "print(((((d.get('k1'))[3]).get('café')[3]).get('alvo')[3]))\n",
        "\n",
        "\n",
        "\n"
      ]
    },
    {
      "cell_type": "code",
      "execution_count": null,
      "metadata": {
        "id": "vBdbKMoNrxEr",
        "outputId": "e9e94b0b-c7ea-4631-d22f-4231fdf0f7e5"
      },
      "outputs": [
        {
          "name": "stdout",
          "output_type": "stream",
          "text": [
            "olá\n"
          ]
        }
      ],
      "source": []
    },
    {
      "cell_type": "markdown",
      "metadata": {
        "id": "0H6t4C5nrxEr"
      },
      "source": [
        "** Qual a principal diferença entre um dicionário e uma tupla? **"
      ]
    },
    {
      "cell_type": "code",
      "execution_count": null,
      "metadata": {
        "collapsed": true,
        "id": "sLERBAsOrxEs",
        "colab": {
          "base_uri": "https://localhost:8080/"
        },
        "outputId": "aad68a1c-0567-4bee-86fc-2b4e01490eaa"
      },
      "outputs": [
        {
          "output_type": "stream",
          "name": "stdout",
          "text": [
            " tuplas, além de serem imutáveis, têm uma semântica muito mais estrutural, armazenando dados heterogêneos. Isto é, a posição do dado pode alterar o seu significado, Os dicionários são ideais para associar valores a chaves e fazer buscas rápidas por essas chaves.')\n"
          ]
        }
      ],
      "source": [
        "print(\" tuplas, além de serem imutáveis, têm uma semântica muito mais estrutural, armazenando dados heterogêneos. Isto é, a posição do dado pode alterar o seu significado, Os dicionários são ideais para associar valores a chaves e fazer buscas rápidas por essas chaves.')\")"
      ]
    },
    {
      "cell_type": "markdown",
      "metadata": {
        "id": "DOw_JEo2rxEs"
      },
      "source": [
        "** Construa uma função que retire o domínio dado um e-mail no seguinte formato: **\n",
        "\n",
        "    user@domain.com\n",
        "    \n",
        "**Por exemplo, passando como parâmetro \"user@domain.com\" retornaria: domain.com**"
      ]
    },
    {
      "cell_type": "code",
      "execution_count": null,
      "metadata": {
        "collapsed": true,
        "id": "0AtyQ_2SrxEs",
        "outputId": "781f83ad-db68-48e0-9310-11ddafa46ac1",
        "colab": {
          "base_uri": "https://localhost:8080/"
        }
      },
      "outputs": [
        {
          "output_type": "stream",
          "name": "stdout",
          "text": [
            "domain.com\n"
          ]
        }
      ],
      "source": [
        "def obterDominio (email) :\n",
        "  emailList =email.split('@')\n",
        "  dominio =emailList[1]\n",
        "  print(dominio)\n",
        "obterDominio(\"user@domain.com\")"
      ]
    },
    {
      "cell_type": "code",
      "execution_count": null,
      "metadata": {
        "id": "avCXJN5HrxEs"
      },
      "outputs": [],
      "source": []
    },
    {
      "cell_type": "markdown",
      "metadata": {
        "id": "AVe78KOUrxEt"
      },
      "source": [
        "** Crie uma função básica que retorna True se a palavra 'dog' estiver contida na string de entrada. Não se preocupe com os casos de extremos, como uma pontuação que está sendo anexada à palavra cão, mas que seja senível à caixa. **"
      ]
    },
    {
      "cell_type": "code",
      "execution_count": null,
      "metadata": {
        "collapsed": true,
        "id": "JizsHoSerxEt",
        "colab": {
          "base_uri": "https://localhost:8080/"
        },
        "outputId": "2cfaf7d4-1270-4210-af89-0b43c1217be4"
      },
      "outputs": [
        {
          "output_type": "stream",
          "name": "stdout",
          "text": [
            "True\n"
          ]
        }
      ],
      "source": [
        "def contem_dog(string):\n",
        "    return 'dog' in string.lower()\n",
        "\n",
        "\n",
        "texto = \"Existe um dog aí?.\"\n",
        "print(contem_dog(texto))\n"
      ]
    },
    {
      "cell_type": "code",
      "execution_count": null,
      "metadata": {
        "id": "lYv9K6FPrxEt",
        "outputId": "147743ab-3aed-4e7c-a9b3-5de19320f67c"
      },
      "outputs": [
        {
          "data": {
            "text/plain": [
              "True"
            ]
          },
          "execution_count": 28,
          "metadata": {},
          "output_type": "execute_result"
        }
      ],
      "source": [
        "encontreCachorro('Existe um cachorro aí?')"
      ]
    },
    {
      "cell_type": "markdown",
      "metadata": {
        "id": "RjVz4QImrxEt"
      },
      "source": [
        "** Crie uma função que conta o número de vezes que a palavra \"dog\" ocorre em uma string. Novamente ignore os casos extremos. **"
      ]
    },
    {
      "cell_type": "code",
      "execution_count": null,
      "metadata": {
        "collapsed": true,
        "id": "FY7yR0ZcrxEu",
        "colab": {
          "base_uri": "https://localhost:8080/"
        },
        "outputId": "8dcfa5ad-2c9a-4fc6-88c2-68a58676c5d2"
      },
      "outputs": [
        {
          "output_type": "stream",
          "name": "stdout",
          "text": [
            "2\n"
          ]
        }
      ],
      "source": [
        "def contar_cao(string):\n",
        "    string = string.lower()\n",
        "    contador = string.count('dog')\n",
        "    return contador\n",
        "\n",
        "\n",
        "texto = \"Esse dog é mais rápido que o outro dog.\"\n",
        "print(contar_cao(texto))"
      ]
    },
    {
      "cell_type": "code",
      "execution_count": null,
      "metadata": {
        "id": "8AqPT1sbrxEu",
        "outputId": "ca98e5aa-60bf-485b-d56f-3218382967a9"
      },
      "outputs": [
        {
          "data": {
            "text/plain": [
              "2"
            ]
          },
          "execution_count": 31,
          "metadata": {},
          "output_type": "execute_result"
        }
      ],
      "source": [
        "contaCachorro('Esse cachorro é mais rápido que o outro cachorro.')"
      ]
    },
    {
      "cell_type": "markdown",
      "metadata": {
        "id": "3Ckl3PvprxEu"
      },
      "source": [
        "** Use expressões lambda e a função filter () para filtrar as palavras de uma lista que não começa com a letra 's'. Por exemplo: **\n",
        "\n",
        "    seq = ['sopa','cachorro','salada','gato','ótimo']\n",
        "\n",
        "** Deveria ser filtrado para:**\n",
        "\n",
        "    ['sopa','salada']"
      ]
    },
    {
      "cell_type": "code",
      "execution_count": null,
      "metadata": {
        "collapsed": true,
        "id": "1SujLFESrxEu",
        "colab": {
          "base_uri": "https://localhost:8080/"
        },
        "outputId": "5ad88823-f5a5-4d9f-c967-a2b24115d6b0"
      },
      "outputs": [
        {
          "output_type": "stream",
          "name": "stdout",
          "text": [
            "['sopa', 'salada']\n"
          ]
        }
      ],
      "source": [
        "seq = ['sopa', 'cachorro', 'salada', 'gato', 'ótimo']\n",
        "\n",
        "resultado = list(filter(lambda palavra: palavra.startswith('s'), seq))\n",
        "print(resultado)\n"
      ]
    },
    {
      "cell_type": "code",
      "execution_count": null,
      "metadata": {
        "id": "uSFoG0CbrxEu",
        "outputId": "d9362104-9957-4453-ab3f-4b74d6123d86"
      },
      "outputs": [
        {
          "data": {
            "text/plain": [
              "['sopa', 'salada']"
            ]
          },
          "execution_count": 8,
          "metadata": {},
          "output_type": "execute_result"
        }
      ],
      "source": []
    },
    {
      "cell_type": "markdown",
      "metadata": {
        "id": "dX5JVe_WrxEv"
      },
      "source": [
        "### Problema final\n",
        "** Você está dirigindo um pouco rápido demais, e um policial para você. Escreva uma função para retornar um dos 3 resultados possíveis: \"Sem multa\", \"Pequena multa\" ou \"Multa Grande\".\n",
        "   Se a sua velocidade for igual ou inferior a 60, o resultado é \"Sem multa\". Se a velocidade for entre 61 e 80 inclusive, o resultado é \"Multa Pequena\". Se a velocidade é de 81 ou mais, o resultado é \"Multa Grande\". A menos que seja seu aniversário (codificado como um valor booleano nos parâmetros da função) - em seu aniversário, sua velocidade pode ser 5 maior em todos os casos. **"
      ]
    },
    {
      "cell_type": "code",
      "execution_count": null,
      "metadata": {
        "collapsed": true,
        "id": "EhecZVN-rxEv"
      },
      "outputs": [],
      "source": [
        "def capturar_velocidade(velocidade, aniversario):\n",
        "    if aniversario:\n",
        "        velocidade -= 5\n",
        "\n",
        "    if velocidade <= 60:\n",
        "        return \"Sem multa\"\n",
        "    elif 61 <= velocidade <= 80:\n",
        "        return \"Multa Pequena\"\n",
        "    else:\n",
        "        return \"Multa Grande\""
      ]
    },
    {
      "cell_type": "markdown",
      "metadata": {
        "id": "PvS9oRjMrxEv"
      },
      "source": []
    },
    {
      "cell_type": "code",
      "execution_count": null,
      "metadata": {
        "id": "QCTcnu7WrxEv",
        "outputId": "e65b5a78-20ea-4251-b848-4f3926f85e5b",
        "colab": {
          "base_uri": "https://localhost:8080/",
          "height": 35
        }
      },
      "outputs": [
        {
          "output_type": "execute_result",
          "data": {
            "text/plain": [
              "'Multa Pequena'"
            ],
            "application/vnd.google.colaboratory.intrinsic+json": {
              "type": "string"
            }
          },
          "metadata": {},
          "execution_count": 9
        }
      ],
      "source": [
        "capturar_velocidade(65,False)"
      ]
    },
    {
      "cell_type": "code",
      "execution_count": null,
      "metadata": {
        "id": "-lzPAxi3rxEw",
        "outputId": "5a41a1db-91c2-4418-ba30-3f4cfa45eab3",
        "colab": {
          "base_uri": "https://localhost:8080/",
          "height": 35
        }
      },
      "outputs": [
        {
          "output_type": "execute_result",
          "data": {
            "text/plain": [
              "'Multa Grande'"
            ],
            "application/vnd.google.colaboratory.intrinsic+json": {
              "type": "string"
            }
          },
          "metadata": {},
          "execution_count": 10
        }
      ],
      "source": [
        "capturar_velocidade(81,False)"
      ]
    }
  ],
  "metadata": {
    "kernelspec": {
      "display_name": "Python 3",
      "language": "python",
      "name": "python3"
    },
    "language_info": {
      "codemirror_mode": {
        "name": "ipython",
        "version": 3
      },
      "file_extension": ".py",
      "mimetype": "text/x-python",
      "name": "python",
      "nbconvert_exporter": "python",
      "pygments_lexer": "ipython3",
      "version": "3.6.1"
    },
    "colab": {
      "provenance": [],
      "include_colab_link": true
    }
  },
  "nbformat": 4,
  "nbformat_minor": 0
}